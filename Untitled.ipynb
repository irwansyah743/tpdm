{
 "cells": [
  {
   "cell_type": "code",
   "execution_count": 1,
   "id": "c9c83d15",
   "metadata": {
    "scrolled": true
   },
   "outputs": [
    {
     "name": "stdout",
     "output_type": "stream",
     "text": [
      "Requirement already satisfied: conda in c:\\users\\irwan\\anaconda3\\lib\\site-packages (4.12.0)\n",
      "Requirement already satisfied: pycosat>=0.6.3 in c:\\users\\irwan\\anaconda3\\lib\\site-packages (from conda) (0.6.3)\n",
      "Requirement already satisfied: requests>=2.12.4 in c:\\users\\irwan\\anaconda3\\lib\\site-packages (from conda) (2.27.1)\n",
      "Requirement already satisfied: ruamel_yaml_conda>=0.11.14 in c:\\users\\irwan\\anaconda3\\lib\\site-packages (from conda) (0.15.100)\n",
      "Requirement already satisfied: menuinst in c:\\users\\irwan\\anaconda3\\lib\\site-packages (from conda) (1.4.18)\n",
      "Requirement already satisfied: charset-normalizer~=2.0.0 in c:\\users\\irwan\\anaconda3\\lib\\site-packages (from requests>=2.12.4->conda) (2.0.4)\n",
      "Requirement already satisfied: idna<4,>=2.5 in c:\\users\\irwan\\anaconda3\\lib\\site-packages (from requests>=2.12.4->conda) (3.3)\n",
      "Requirement already satisfied: certifi>=2017.4.17 in c:\\users\\irwan\\anaconda3\\lib\\site-packages (from requests>=2.12.4->conda) (2021.10.8)\n",
      "Requirement already satisfied: urllib3<1.27,>=1.21.1 in c:\\users\\irwan\\anaconda3\\lib\\site-packages (from requests>=2.12.4->conda) (1.26.9)\n",
      "Requirement already satisfied: pywin32 in c:\\users\\irwan\\anaconda3\\lib\\site-packages (from menuinst->conda) (302)\n"
     ]
    }
   ],
   "source": [
    "!pip install conda"
   ]
  },
  {
   "cell_type": "code",
   "execution_count": 2,
   "id": "a18a37a0",
   "metadata": {},
   "outputs": [
    {
     "name": "stderr",
     "output_type": "stream",
     "text": [
      "\n",
      "CondaValueError: The target prefix is the base prefix. Aborting.\n",
      "\n"
     ]
    }
   ],
   "source": [
    "!conda create -- name deploy-model-linreg python=3.9"
   ]
  },
  {
   "cell_type": "code",
   "execution_count": null,
   "id": "25705a62",
   "metadata": {},
   "outputs": [],
   "source": []
  }
 ],
 "metadata": {
  "kernelspec": {
   "display_name": "Python 3 (ipykernel)",
   "language": "python",
   "name": "python3"
  },
  "language_info": {
   "codemirror_mode": {
    "name": "ipython",
    "version": 3
   },
   "file_extension": ".py",
   "mimetype": "text/x-python",
   "name": "python",
   "nbconvert_exporter": "python",
   "pygments_lexer": "ipython3",
   "version": "3.9.12"
  }
 },
 "nbformat": 4,
 "nbformat_minor": 5
}
