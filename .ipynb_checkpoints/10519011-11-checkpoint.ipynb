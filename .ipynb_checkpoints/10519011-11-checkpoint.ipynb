{
 "cells": [
  {
   "cell_type": "code",
   "execution_count": 3,
   "id": "1ed24c0b-0f1a-4a95-8a5e-1d77cec9d577",
   "metadata": {},
   "outputs": [],
   "source": [
    "import nltk"
   ]
  },
  {
   "cell_type": "code",
   "execution_count": 4,
   "id": "f7d2309d-5834-4ef9-9148-c94255469706",
   "metadata": {},
   "outputs": [
    {
     "name": "stderr",
     "output_type": "stream",
     "text": [
      "[nltk_data] Downloading package punkt to\n",
      "[nltk_data]     C:\\Users\\irwan\\AppData\\Roaming\\nltk_data...\n",
      "[nltk_data]   Package punkt is already up-to-date!\n"
     ]
    },
    {
     "data": {
      "text/plain": [
       "True"
      ]
     },
     "execution_count": 4,
     "metadata": {},
     "output_type": "execute_result"
    }
   ],
   "source": [
    "nltk.download('punkt')"
   ]
  },
  {
   "cell_type": "code",
   "execution_count": 5,
   "id": "75316a1f-ef21-4cae-ad1a-16ec43f8adcd",
   "metadata": {},
   "outputs": [],
   "source": [
    "text=\"halo apa kabar kamu di desa\""
   ]
  },
  {
   "cell_type": "code",
   "execution_count": 6,
   "id": "3075dbec-80c8-47dd-8428-c3c41e6bb7f6",
   "metadata": {},
   "outputs": [
    {
     "name": "stdout",
     "output_type": "stream",
     "text": [
      "['halo', 'apa', 'kabar', 'kamu', 'di', 'desa']\n"
     ]
    }
   ],
   "source": [
    "from nltk.tokenize import word_tokenize\n",
    "tokenized_word = word_tokenize(text)\n",
    "print(tokenized_word)"
   ]
  },
  {
   "cell_type": "code",
   "execution_count": 7,
   "id": "81a7c71a-185e-4d5b-8d94-67534c7dae22",
   "metadata": {},
   "outputs": [
    {
     "data": {
      "text/plain": [
       "[('halo', 'apa'),\n",
       " ('apa', 'kabar'),\n",
       " ('kabar', 'kamu'),\n",
       " ('kamu', 'di'),\n",
       " ('di', 'desa')]"
      ]
     },
     "execution_count": 7,
     "metadata": {},
     "output_type": "execute_result"
    }
   ],
   "source": [
    "list(nltk.bigrams(tokenized_word))"
   ]
  },
  {
   "cell_type": "code",
   "execution_count": 8,
   "id": "8beba5fb",
   "metadata": {},
   "outputs": [
    {
     "data": {
      "text/plain": [
       "[('halo', 'apa', 'kabar'),\n",
       " ('apa', 'kabar', 'kamu'),\n",
       " ('kabar', 'kamu', 'di'),\n",
       " ('kamu', 'di', 'desa')]"
      ]
     },
     "execution_count": 8,
     "metadata": {},
     "output_type": "execute_result"
    }
   ],
   "source": [
    "list(nltk.trigrams(tokenized_word))"
   ]
  },
  {
   "cell_type": "code",
   "execution_count": 9,
   "id": "f8897940",
   "metadata": {},
   "outputs": [
    {
     "data": {
      "text/plain": [
       "[('halo', 'apa', 'kabar', 'kamu'),\n",
       " ('apa', 'kabar', 'kamu', 'di'),\n",
       " ('kabar', 'kamu', 'di', 'desa')]"
      ]
     },
     "execution_count": 9,
     "metadata": {},
     "output_type": "execute_result"
    }
   ],
   "source": [
    "list(nltk.ngrams(tokenized_word,4))"
   ]
  },
  {
   "cell_type": "code",
   "execution_count": 10,
   "id": "0f3dc01d",
   "metadata": {},
   "outputs": [
    {
     "name": "stdout",
     "output_type": "stream",
     "text": [
      "<FreqDist with 6 samples and 6 outcomes>\n"
     ]
    }
   ],
   "source": [
    "from nltk.probability import FreqDist\n",
    "fDist = FreqDist(tokenized_word)\n",
    "print(fDist)\n"
   ]
  },
  {
   "cell_type": "code",
   "execution_count": 11,
   "id": "edf0d639",
   "metadata": {},
   "outputs": [
    {
     "data": {
      "text/plain": [
       "[('halo', 1), ('apa', 1)]"
      ]
     },
     "execution_count": 11,
     "metadata": {},
     "output_type": "execute_result"
    }
   ],
   "source": [
    "fDist.most_common(2)"
   ]
  },
  {
   "cell_type": "code",
   "execution_count": 13,
   "id": "5638fab7",
   "metadata": {},
   "outputs": [
    {
     "data": {
      "image/png": "[encoded data removed]",
      "text/plain": [
       "<Figure size 432x288 with 1 Axes>"
      ]
     },
     "metadata": {
      "needs_background": "light"
     },
     "output_type": "display_data"
    },
    {
     "data": {
      "text/plain": [
       "<function matplotlib.pyplot.show(close=None, block=None)>"
      ]
     },
     "execution_count": 13,
     "metadata": {},
     "output_type": "execute_result"
    }
   ],
   "source": [
    "import matplotlib.pyplot as plt\n",
    "fDist.plot(20, cumulative= 'false')\n",
    "plt.show"
   ]
  },
  {
   "cell_type": "code",
   "execution_count": null,
   "id": "203ad791",
   "metadata": {},
   "outputs": [],
   "source": []
  },
  {
   "cell_type": "code",
   "execution_count": null,
   "id": "73dab5f6",
   "metadata": {},
   "outputs": [],
   "source": []
  }
 ],
 "metadata": {
  "kernelspec": {
   "display_name": "Python 3 (ipykernel)",
   "language": "python",
   "name": "python3"
  },
  "language_info": {
   "codemirror_mode": {
    "name": "ipython",
    "version": 3
   },
   "file_extension": ".py",
   "mimetype": "text/x-python",
   "name": "python",
   "nbconvert_exporter": "python",
   "pygments_lexer": "ipython3",
   "version": "3.9.12"
  }
 },
 "nbformat": 4,
 "nbformat_minor": 5
}
