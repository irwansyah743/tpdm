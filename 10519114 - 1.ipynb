{
 "cells": [
  {
   "cell_type": "code",
   "execution_count": 3,
   "metadata": {},
   "outputs": [
    {
     "name": "stdout",
     "output_type": "stream",
     "text": [
      "13\n"
     ]
    }
   ],
   "source": [
    "x=5\n",
    "y=8\n",
    "z=x+y\n",
    "print(z)"
   ]
  },
  {
   "cell_type": "code",
   "execution_count": 4,
   "metadata": {},
   "outputs": [
    {
     "name": "stdout",
     "output_type": "stream",
     "text": [
      "5\n",
      "6\n",
      "11\n"
     ]
    }
   ],
   "source": [
    "x=int(input())\n",
    "y=int(input())\n",
    "z=x+y\n",
    "print(z)"
   ]
  },
  {
   "cell_type": "code",
   "execution_count": 5,
   "metadata": {},
   "outputs": [
    {
     "name": "stdout",
     "output_type": "stream",
     "text": [
      "saya\n",
      "mahasiswa unikom\n",
      "sayamahasiswa unikom\n"
     ]
    }
   ],
   "source": [
    "x=str(input())\n",
    "y=str(input())\n",
    "z=x+y\n",
    "print(z)"
   ]
  },
  {
   "cell_type": "code",
   "execution_count": 9,
   "metadata": {},
   "outputs": [
    {
     "name": "stdout",
     "output_type": "stream",
     "text": [
      "Ridho\n",
      "Jl Gatot Subroto\n",
      "100\n",
      "nama   : Ridho\n",
      "alamat : Jl Gatot Subroto\n",
      "nilai  : 100\n"
     ]
    }
   ],
   "source": [
    "nama=str(input())\n",
    "alamat=str(input())\n",
    "nilai=int(input())\n",
    "print(\"nama   :\" , nama)\n",
    "print(\"alamat :\" , alamat)\n",
    "print(\"nilai  :\" , nilai)"
   ]
  },
  {
   "cell_type": "code",
   "execution_count": 13,
   "metadata": {},
   "outputs": [
    {
     "name": "stdout",
     "output_type": "stream",
     "text": [
      "0\n",
      "1\n",
      "2\n",
      "3\n",
      "4\n",
      "5\n",
      "6\n",
      "7\n",
      "8\n",
      "9\n"
     ]
    }
   ],
   "source": [
    "for x in range(10):\n",
    "    print(x)"
   ]
  },
  {
   "cell_type": "code",
   "execution_count": 15,
   "metadata": {},
   "outputs": [
    {
     "name": "stdout",
     "output_type": "stream",
     "text": [
      "adi\n",
      "budi\n",
      "pandi\n"
     ]
    }
   ],
   "source": [
    "xlist = ['adi','budi','pandi']\n",
    "print(xlist[0])\n",
    "print(xlist[1])\n",
    "print(xlist[2])\n",
    "         "
   ]
  },
  {
   "cell_type": "code",
   "execution_count": 20,
   "metadata": {},
   "outputs": [
    {
     "ename": "SyntaxError",
     "evalue": "invalid syntax (<ipython-input-20-7e105a83d061>, line 1)",
     "output_type": "error",
     "traceback": [
      "\u001b[1;36m  File \u001b[1;32m\"<ipython-input-20-7e105a83d061>\"\u001b[1;36m, line \u001b[1;32m1\u001b[0m\n\u001b[1;33m    nilai = int(input(Masukan nilai = ))\u001b[0m\n\u001b[1;37m                                  ^\u001b[0m\n\u001b[1;31mSyntaxError\u001b[0m\u001b[1;31m:\u001b[0m invalid syntax\n"
     ]
    }
   ],
   "source": [
    "nilai = int(input('Masukan nilai = \n",
    "if nilai > 80:\n",
    "    print('predikat A')\n",
    "elif nilai > 70:\n",
    "    print('predikat B')\n",
    "elif nilai > 60:\n",
    "    print('predikat C')\n",
    "elif nilai > 50:\n",
    "    print('predikat D')\n",
    "else nilai < 40:\n",
    "    print('predikat E')\n",
    "     \n",
    "    "
   ]
  },
  {
   "cell_type": "code",
   "execution_count": null,
   "metadata": {},
   "outputs": [],
   "source": []
  }
 ],
 "metadata": {
  "kernelspec": {
   "display_name": "Python 3",
   "language": "python",
   "name": "python3"
  },
  "language_info": {
   "codemirror_mode": {
    "name": "ipython",
    "version": 3
   },
   "file_extension": ".py",
   "mimetype": "text/x-python",
   "name": "python",
   "nbconvert_exporter": "python",
   "pygments_lexer": "ipython3",
   "version": "3.7.3"
  }
 },
 "nbformat": 4,
 "nbformat_minor": 2
}
